{
 "cells": [
  {
   "cell_type": "markdown",
   "id": "09d89f2f",
   "metadata": {},
   "source": [
    "# Flight Fares\n"
   ]
  },
  {
   "cell_type": "markdown",
   "id": "ed7326fa",
   "metadata": {},
   "source": [
    "### Dataset Description"
   ]
  },
  {
   "cell_type": "markdown",
   "id": "f050a67c",
   "metadata": {},
   "source": [
    "this dataset contains the information regarding flights of different airlines, including the price of the tickets, durations, destination, source city, etc. the focus in this Jupyter notebook file is on  the correlation between the flight tickets' prices and the other attributes and the goal is to make accurate predictions of the flight fares based these attributes.\n"
   ]
  },
  {
   "cell_type": "markdown",
   "id": "1d71f77e",
   "metadata": {},
   "source": [
    "Dataset Detail Information The dataset contains 300152 recrds in total. Every record has 10 features and 1 label which are described as below :\n",
    "1- Airline\n",
    "2- flight\n",
    "3- Source_city\n",
    "4- Departure\n",
    "5- Stops\n",
    "6- Arrival_Time\n",
    "7- Destination\n",
    "8- Class\n",
    "9- Duration \n",
    "10- Days-left\n",
    "\n",
    "Output Variable:\n",
    "Price\n",
    "\n",
    "There will be two different models implemented to make the predictions:\n",
    "1- using polynomial regression model to predict the price of the tickets based on some of the other attributes with high correlation\n",
    "2- Using an artificial neural network model to predict the price based on attributes with high correlation"
   ]
  },
  {
   "cell_type": "code",
   "execution_count": 2,
   "id": "1121c478",
   "metadata": {},
   "outputs": [],
   "source": [
    "import numpy as np\n",
    "import pandas as pd\n",
    "from sklearn.neighbors import KNeighborsClassifier\n",
    "from sklearn.model_selection import cross_val_score, KFold\n",
    "import matplotlib.pyplot as plt\n",
    "from sklearn.preprocessing import StandardScaler, PolynomialFeatures, StandardScaler, MinMaxScaler\n",
    "import seaborn as sns"
   ]
  },
  {
   "cell_type": "code",
   "execution_count": null,
   "id": "d2a276c6",
   "metadata": {},
   "outputs": [],
   "source": []
  }
 ],
 "metadata": {
  "kernelspec": {
   "display_name": "Python 3 (ipykernel)",
   "language": "python",
   "name": "python3"
  },
  "language_info": {
   "codemirror_mode": {
    "name": "ipython",
    "version": 3
   },
   "file_extension": ".py",
   "mimetype": "text/x-python",
   "name": "python",
   "nbconvert_exporter": "python",
   "pygments_lexer": "ipython3",
   "version": "3.11.5"
  }
 },
 "nbformat": 4,
 "nbformat_minor": 5
}
